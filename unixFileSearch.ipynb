{
  "nbformat": 4,
  "nbformat_minor": 0,
  "metadata": {
    "colab": {
      "provenance": [],
      "authorship_tag": "ABX9TyNHAx54ww5jA1WAEAOIfRAi",
      "include_colab_link": true
    },
    "kernelspec": {
      "name": "python3",
      "display_name": "Python 3"
    },
    "language_info": {
      "name": "python"
    }
  },
  "cells": [
    {
      "cell_type": "markdown",
      "metadata": {
        "id": "view-in-github",
        "colab_type": "text"
      },
      "source": [
        "<a href=\"https://colab.research.google.com/github/ngaivoronski/Algorithms/blob/master/unixFileSearch.ipynb\" target=\"_parent\"><img src=\"https://colab.research.google.com/assets/colab-badge.svg\" alt=\"Open In Colab\"/></a>"
      ]
    },
    {
      "cell_type": "code",
      "execution_count": 10,
      "metadata": {
        "colab": {
          "base_uri": "https://localhost:8080/"
        },
        "id": "wDQ0JcRS6dux",
        "outputId": "4e131c71-f01d-4cf4-fecb-f23d3f6b5f45"
      },
      "outputs": [
        {
          "output_type": "stream",
          "name": "stdout",
          "text": [
            "[StarTrek_4.txt, StarWars_10.xml, JusticeLeague_15.txt, IronMan_9.txt, MissionImpossible_10.rar, BigBangTheory_4.txt, AmericanPie_6.mp3]\n",
            "[JusticeLeague_15.txt, IronMan_9.txt]\n",
            "[JusticeLeague_15.txt, IronMan_9.txt, MissionImpossible_10.rar]\n"
          ]
        }
      ],
      "source": [
        "from abc import ABC, abstractmethod\n",
        "from collections import deque\n",
        "\n",
        "class File():\n",
        "    def __init__(self, name, size):\n",
        "        self.name = name\n",
        "        self.size = size\n",
        "        self.children = []\n",
        "        self.isDirectory = '.' not in name\n",
        "        self.extension = name.split('.')[-1] if not self.isDirectory else \"\"\n",
        "\n",
        "    def __repr__(self) -> str:\n",
        "        return self.name\n",
        "\n",
        "class Filter(ABC):\n",
        "    @abstractmethod\n",
        "    def apply(self, file):\n",
        "        pass\n",
        "\n",
        "class SizeFilter(Filter):\n",
        "    def __init__(self, size):\n",
        "        self.size = size\n",
        "\n",
        "    def apply(self, file):\n",
        "        return file.size >= self.size\n",
        "\n",
        "class ExtensionFilter(Filter):\n",
        "    def __init__(self, extension):\n",
        "        self.extension = extension\n",
        "\n",
        "    def apply(self, file):\n",
        "        return file.extension == self.extension\n",
        "\n",
        "class AndFilter(Filter):\n",
        "    def __init__(self, *filters):\n",
        "        self.filters = filters\n",
        "\n",
        "    def apply(self, file):\n",
        "        return all(f.apply(file) for f in self.filters)\n",
        "\n",
        "class OrFilter(Filter):\n",
        "    def __init__(self, *filters):\n",
        "        self.filters = filters\n",
        "\n",
        "    def apply(self, file):\n",
        "        return any(f.apply(file) for f in self.filters)\n",
        "\n",
        "class ApplySearch():\n",
        "    def __init__(self, filter=None):\n",
        "        self.filter = filter\n",
        "\n",
        "    def setFilter(self, filter):\n",
        "        self.filter = filter\n",
        "\n",
        "    def find(self, root):\n",
        "        result = []\n",
        "        queue = deque([root])\n",
        "        while queue:\n",
        "            current = queue.popleft()\n",
        "            if current.isDirectory:\n",
        "                queue.extend(current.children)\n",
        "            else:\n",
        "                if self.filter and self.filter.apply(current):\n",
        "                    result.append(current)\n",
        "        return result\n",
        "\n",
        "f1 = File(\"root_300\", 300)\n",
        "\n",
        "f2 = File(\"fiction_100\", 100)\n",
        "f3 = File(\"action_100\", 100)\n",
        "f4 = File(\"comedy_100\", 100)\n",
        "f1.children = [f2, f3, f4]\n",
        "\n",
        "f5 = File(\"StarTrek_4.txt\", 4)\n",
        "f6 = File(\"StarWars_10.xml\", 10)\n",
        "f7 = File(\"JusticeLeague_15.txt\", 15)\n",
        "f8 = File(\"Spock_1.jpg\", 1)\n",
        "f2.children = [f5, f6, f7, f8]\n",
        "\n",
        "f9 = File(\"IronMan_9.txt\", 9)\n",
        "f10 = File(\"MissionImpossible_10.rar\", 10)\n",
        "f11 = File(\"TheLordOfRings_3.zip\", 3)\n",
        "f3.children = [f9, f10, f11]\n",
        "\n",
        "f11 = File(\"BigBangTheory_4.txt\", 4)\n",
        "f12 = File(\"AmericanPie_6.mp3\", 6)\n",
        "f4.children = [f11, f12]\n",
        "\n",
        "\n",
        "greater5_filter = SizeFilter(5)\n",
        "txt_filter = ExtensionFilter(\"txt\")\n",
        "rar_filter = ExtensionFilter(\"rar\")\n",
        "\n",
        "searcher = ApplySearch(OrFilter(greater5_filter, txt_filter))\n",
        "print(searcher.find(f1))\n",
        "\n",
        "searcher = ApplySearch(AndFilter(greater5_filter, txt_filter))\n",
        "print(searcher.find(f1))\n",
        "\n",
        "searcher = ApplySearch(AndFilter(OrFilter(rar_filter, txt_filter),greater5_filter))\n",
        "print(searcher.find(f1))\n"
      ]
    }
  ]
}